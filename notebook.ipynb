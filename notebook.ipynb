{
 "cells": [
  {
   "cell_type": "code",
   "execution_count": 1,
   "source": [
    "# for good measure\n",
    "%config Completer.use_jedi = False"
   ],
   "outputs": [],
   "metadata": {}
  },
  {
   "cell_type": "code",
   "execution_count": 79,
   "source": [
    "import matplotlib.pyplot as plt\n",
    "import numpy as np\n",
    "import pandas as pd\n",
    "import seaborn as sns\n",
    "\n",
    "import sklearn.model_selection as model_selection\n",
    "import sklearn.preprocessing as preprocessing\n",
    "import sklearn.decomposition as decomposition\n",
    "import sklearn.metrics as metrics\n",
    "\n",
    "import sklearn.svm as svm\n",
    "import sklearn.neighbors as neighbors\n",
    "import sklearn.ensemble as ensemble\n",
    "import sklearn.linear_model as linear_model\n",
    "import sklearn.tree as tree\n",
    "import sklearn.naive_bayes as naive_bayes\n",
    "\n",
    "import xgboost as xgb"
   ],
   "outputs": [],
   "metadata": {}
  },
  {
   "cell_type": "markdown",
   "source": [
    "### Load datasets"
   ],
   "metadata": {}
  },
  {
   "cell_type": "code",
   "execution_count": 3,
   "source": [
    "test_data = pd.read_csv(\"data/data_set_ALL_AML_independent.csv\")\n",
    "train_data = pd.read_csv(\"data/data_set_ALL_AML_train.csv\")\n",
    "truth_labels = pd.read_csv(\"data/actual.csv\")"
   ],
   "outputs": [],
   "metadata": {}
  },
  {
   "cell_type": "markdown",
   "source": [
    "### Cleaning data\n",
    "\n",
    "Investigate what we see in the data and what cleaning we should perform"
   ],
   "metadata": {}
  },
  {
   "cell_type": "code",
   "execution_count": 4,
   "source": [
    "train_data.head()"
   ],
   "outputs": [
    {
     "output_type": "execute_result",
     "data": {
      "text/plain": [
       "                      Gene Description Gene Accession Number    1 call    2  \\\n",
       "0  AFFX-BioB-5_at (endogenous control)        AFFX-BioB-5_at -214    A -139   \n",
       "1  AFFX-BioB-M_at (endogenous control)        AFFX-BioB-M_at -153    A  -73   \n",
       "2  AFFX-BioB-3_at (endogenous control)        AFFX-BioB-3_at  -58    A   -1   \n",
       "3  AFFX-BioC-5_at (endogenous control)        AFFX-BioC-5_at   88    A  283   \n",
       "4  AFFX-BioC-3_at (endogenous control)        AFFX-BioC-3_at -295    A -264   \n",
       "\n",
       "  call.1    3 call.2    4 call.3  ...   29 call.33   30 call.34   31 call.35  \\\n",
       "0      A  -76      A -135      A  ...   15       A -318       A  -32       A   \n",
       "1      A  -49      A -114      A  ... -114       A -192       A  -49       A   \n",
       "2      A -307      A  265      A  ...    2       A  -95       A   49       A   \n",
       "3      A  309      A   12      A  ...  193       A  312       A  230       P   \n",
       "4      A -376      A -419      A  ...  -51       A -139       A -367       A   \n",
       "\n",
       "    32 call.36   33 call.37  \n",
       "0 -124       A -135       A  \n",
       "1  -79       A -186       A  \n",
       "2  -37       A  -70       A  \n",
       "3  330       A  337       A  \n",
       "4 -188       A -407       A  \n",
       "\n",
       "[5 rows x 78 columns]"
      ],
      "text/html": [
       "<div>\n",
       "<style scoped>\n",
       "    .dataframe tbody tr th:only-of-type {\n",
       "        vertical-align: middle;\n",
       "    }\n",
       "\n",
       "    .dataframe tbody tr th {\n",
       "        vertical-align: top;\n",
       "    }\n",
       "\n",
       "    .dataframe thead th {\n",
       "        text-align: right;\n",
       "    }\n",
       "</style>\n",
       "<table border=\"1\" class=\"dataframe\">\n",
       "  <thead>\n",
       "    <tr style=\"text-align: right;\">\n",
       "      <th></th>\n",
       "      <th>Gene Description</th>\n",
       "      <th>Gene Accession Number</th>\n",
       "      <th>1</th>\n",
       "      <th>call</th>\n",
       "      <th>2</th>\n",
       "      <th>call.1</th>\n",
       "      <th>3</th>\n",
       "      <th>call.2</th>\n",
       "      <th>4</th>\n",
       "      <th>call.3</th>\n",
       "      <th>...</th>\n",
       "      <th>29</th>\n",
       "      <th>call.33</th>\n",
       "      <th>30</th>\n",
       "      <th>call.34</th>\n",
       "      <th>31</th>\n",
       "      <th>call.35</th>\n",
       "      <th>32</th>\n",
       "      <th>call.36</th>\n",
       "      <th>33</th>\n",
       "      <th>call.37</th>\n",
       "    </tr>\n",
       "  </thead>\n",
       "  <tbody>\n",
       "    <tr>\n",
       "      <th>0</th>\n",
       "      <td>AFFX-BioB-5_at (endogenous control)</td>\n",
       "      <td>AFFX-BioB-5_at</td>\n",
       "      <td>-214</td>\n",
       "      <td>A</td>\n",
       "      <td>-139</td>\n",
       "      <td>A</td>\n",
       "      <td>-76</td>\n",
       "      <td>A</td>\n",
       "      <td>-135</td>\n",
       "      <td>A</td>\n",
       "      <td>...</td>\n",
       "      <td>15</td>\n",
       "      <td>A</td>\n",
       "      <td>-318</td>\n",
       "      <td>A</td>\n",
       "      <td>-32</td>\n",
       "      <td>A</td>\n",
       "      <td>-124</td>\n",
       "      <td>A</td>\n",
       "      <td>-135</td>\n",
       "      <td>A</td>\n",
       "    </tr>\n",
       "    <tr>\n",
       "      <th>1</th>\n",
       "      <td>AFFX-BioB-M_at (endogenous control)</td>\n",
       "      <td>AFFX-BioB-M_at</td>\n",
       "      <td>-153</td>\n",
       "      <td>A</td>\n",
       "      <td>-73</td>\n",
       "      <td>A</td>\n",
       "      <td>-49</td>\n",
       "      <td>A</td>\n",
       "      <td>-114</td>\n",
       "      <td>A</td>\n",
       "      <td>...</td>\n",
       "      <td>-114</td>\n",
       "      <td>A</td>\n",
       "      <td>-192</td>\n",
       "      <td>A</td>\n",
       "      <td>-49</td>\n",
       "      <td>A</td>\n",
       "      <td>-79</td>\n",
       "      <td>A</td>\n",
       "      <td>-186</td>\n",
       "      <td>A</td>\n",
       "    </tr>\n",
       "    <tr>\n",
       "      <th>2</th>\n",
       "      <td>AFFX-BioB-3_at (endogenous control)</td>\n",
       "      <td>AFFX-BioB-3_at</td>\n",
       "      <td>-58</td>\n",
       "      <td>A</td>\n",
       "      <td>-1</td>\n",
       "      <td>A</td>\n",
       "      <td>-307</td>\n",
       "      <td>A</td>\n",
       "      <td>265</td>\n",
       "      <td>A</td>\n",
       "      <td>...</td>\n",
       "      <td>2</td>\n",
       "      <td>A</td>\n",
       "      <td>-95</td>\n",
       "      <td>A</td>\n",
       "      <td>49</td>\n",
       "      <td>A</td>\n",
       "      <td>-37</td>\n",
       "      <td>A</td>\n",
       "      <td>-70</td>\n",
       "      <td>A</td>\n",
       "    </tr>\n",
       "    <tr>\n",
       "      <th>3</th>\n",
       "      <td>AFFX-BioC-5_at (endogenous control)</td>\n",
       "      <td>AFFX-BioC-5_at</td>\n",
       "      <td>88</td>\n",
       "      <td>A</td>\n",
       "      <td>283</td>\n",
       "      <td>A</td>\n",
       "      <td>309</td>\n",
       "      <td>A</td>\n",
       "      <td>12</td>\n",
       "      <td>A</td>\n",
       "      <td>...</td>\n",
       "      <td>193</td>\n",
       "      <td>A</td>\n",
       "      <td>312</td>\n",
       "      <td>A</td>\n",
       "      <td>230</td>\n",
       "      <td>P</td>\n",
       "      <td>330</td>\n",
       "      <td>A</td>\n",
       "      <td>337</td>\n",
       "      <td>A</td>\n",
       "    </tr>\n",
       "    <tr>\n",
       "      <th>4</th>\n",
       "      <td>AFFX-BioC-3_at (endogenous control)</td>\n",
       "      <td>AFFX-BioC-3_at</td>\n",
       "      <td>-295</td>\n",
       "      <td>A</td>\n",
       "      <td>-264</td>\n",
       "      <td>A</td>\n",
       "      <td>-376</td>\n",
       "      <td>A</td>\n",
       "      <td>-419</td>\n",
       "      <td>A</td>\n",
       "      <td>...</td>\n",
       "      <td>-51</td>\n",
       "      <td>A</td>\n",
       "      <td>-139</td>\n",
       "      <td>A</td>\n",
       "      <td>-367</td>\n",
       "      <td>A</td>\n",
       "      <td>-188</td>\n",
       "      <td>A</td>\n",
       "      <td>-407</td>\n",
       "      <td>A</td>\n",
       "    </tr>\n",
       "  </tbody>\n",
       "</table>\n",
       "<p>5 rows × 78 columns</p>\n",
       "</div>"
      ]
     },
     "metadata": {},
     "execution_count": 4
    }
   ],
   "metadata": {}
  },
  {
   "cell_type": "code",
   "execution_count": 5,
   "source": [
    "truth_labels.head()"
   ],
   "outputs": [
    {
     "output_type": "execute_result",
     "data": {
      "text/plain": [
       "   patient cancer\n",
       "0        1    ALL\n",
       "1        2    ALL\n",
       "2        3    ALL\n",
       "3        4    ALL\n",
       "4        5    ALL"
      ],
      "text/html": [
       "<div>\n",
       "<style scoped>\n",
       "    .dataframe tbody tr th:only-of-type {\n",
       "        vertical-align: middle;\n",
       "    }\n",
       "\n",
       "    .dataframe tbody tr th {\n",
       "        vertical-align: top;\n",
       "    }\n",
       "\n",
       "    .dataframe thead th {\n",
       "        text-align: right;\n",
       "    }\n",
       "</style>\n",
       "<table border=\"1\" class=\"dataframe\">\n",
       "  <thead>\n",
       "    <tr style=\"text-align: right;\">\n",
       "      <th></th>\n",
       "      <th>patient</th>\n",
       "      <th>cancer</th>\n",
       "    </tr>\n",
       "  </thead>\n",
       "  <tbody>\n",
       "    <tr>\n",
       "      <th>0</th>\n",
       "      <td>1</td>\n",
       "      <td>ALL</td>\n",
       "    </tr>\n",
       "    <tr>\n",
       "      <th>1</th>\n",
       "      <td>2</td>\n",
       "      <td>ALL</td>\n",
       "    </tr>\n",
       "    <tr>\n",
       "      <th>2</th>\n",
       "      <td>3</td>\n",
       "      <td>ALL</td>\n",
       "    </tr>\n",
       "    <tr>\n",
       "      <th>3</th>\n",
       "      <td>4</td>\n",
       "      <td>ALL</td>\n",
       "    </tr>\n",
       "    <tr>\n",
       "      <th>4</th>\n",
       "      <td>5</td>\n",
       "      <td>ALL</td>\n",
       "    </tr>\n",
       "  </tbody>\n",
       "</table>\n",
       "</div>"
      ]
     },
     "metadata": {},
     "execution_count": 5
    }
   ],
   "metadata": {}
  },
  {
   "cell_type": "code",
   "execution_count": 6,
   "source": [
    "# drop all columns with \"call\"\n",
    "test_data = test_data.drop(labels = [col for col in test_data.columns if \"call\" in col], axis=1)\n",
    "train_data = train_data.drop(labels = [col for col in train_data.columns if \"call\" in col],axis=1)\n",
    "\n",
    "# concatenate all data for all patients and get all 72 patients only\n",
    "data_all = pd.concat([train_data,test_data], axis=1)[map(str, range(1,73))]\n",
    "data_all = data_all.T"
   ],
   "outputs": [],
   "metadata": {}
  },
  {
   "cell_type": "code",
   "execution_count": 7,
   "source": [
    "# Encoding categorical values\n",
    "data_all[\"patient\"] = pd.to_numeric(list(map(str, range(1,73))))\n",
    "truth_labels[\"cancer\"] = pd.get_dummies(truth_labels.cancer, drop_first=True)\n",
    "\n",
    "data_all = pd.merge(data_all, truth_labels, on=\"patient\")"
   ],
   "outputs": [],
   "metadata": {}
  },
  {
   "cell_type": "code",
   "execution_count": 8,
   "source": [
    "data_all.head()"
   ],
   "outputs": [
    {
     "output_type": "execute_result",
     "data": {
      "text/plain": [
       "     0    1    2    3    4    5    6    7    8    9  ...  7121  7122  7123  \\\n",
       "0 -214 -153  -58   88 -295 -558  199 -176  252  206  ...  -125   389   -37   \n",
       "1 -139  -73   -1  283 -264 -400 -330 -168  101   74  ...   -36   442   -17   \n",
       "2  -76  -49 -307  309 -376 -650   33 -367  206 -215  ...    33   168    52   \n",
       "3 -135 -114  265   12 -419 -585  158 -253   49   31  ...   218   174  -110   \n",
       "4 -106 -125  -76  168 -230 -284    4 -122   70  252  ...    57   504   -26   \n",
       "\n",
       "   7124  7125  7126  7127  7128  patient  cancer  \n",
       "0   793   329    36   191   -37        1       0  \n",
       "1   782   295    11    76   -14        2       0  \n",
       "2  1138   777    41   228   -41        3       0  \n",
       "3   627   170   -50   126   -91        4       0  \n",
       "4   250   314    14    56   -25        5       0  \n",
       "\n",
       "[5 rows x 7131 columns]"
      ],
      "text/html": [
       "<div>\n",
       "<style scoped>\n",
       "    .dataframe tbody tr th:only-of-type {\n",
       "        vertical-align: middle;\n",
       "    }\n",
       "\n",
       "    .dataframe tbody tr th {\n",
       "        vertical-align: top;\n",
       "    }\n",
       "\n",
       "    .dataframe thead th {\n",
       "        text-align: right;\n",
       "    }\n",
       "</style>\n",
       "<table border=\"1\" class=\"dataframe\">\n",
       "  <thead>\n",
       "    <tr style=\"text-align: right;\">\n",
       "      <th></th>\n",
       "      <th>0</th>\n",
       "      <th>1</th>\n",
       "      <th>2</th>\n",
       "      <th>3</th>\n",
       "      <th>4</th>\n",
       "      <th>5</th>\n",
       "      <th>6</th>\n",
       "      <th>7</th>\n",
       "      <th>8</th>\n",
       "      <th>9</th>\n",
       "      <th>...</th>\n",
       "      <th>7121</th>\n",
       "      <th>7122</th>\n",
       "      <th>7123</th>\n",
       "      <th>7124</th>\n",
       "      <th>7125</th>\n",
       "      <th>7126</th>\n",
       "      <th>7127</th>\n",
       "      <th>7128</th>\n",
       "      <th>patient</th>\n",
       "      <th>cancer</th>\n",
       "    </tr>\n",
       "  </thead>\n",
       "  <tbody>\n",
       "    <tr>\n",
       "      <th>0</th>\n",
       "      <td>-214</td>\n",
       "      <td>-153</td>\n",
       "      <td>-58</td>\n",
       "      <td>88</td>\n",
       "      <td>-295</td>\n",
       "      <td>-558</td>\n",
       "      <td>199</td>\n",
       "      <td>-176</td>\n",
       "      <td>252</td>\n",
       "      <td>206</td>\n",
       "      <td>...</td>\n",
       "      <td>-125</td>\n",
       "      <td>389</td>\n",
       "      <td>-37</td>\n",
       "      <td>793</td>\n",
       "      <td>329</td>\n",
       "      <td>36</td>\n",
       "      <td>191</td>\n",
       "      <td>-37</td>\n",
       "      <td>1</td>\n",
       "      <td>0</td>\n",
       "    </tr>\n",
       "    <tr>\n",
       "      <th>1</th>\n",
       "      <td>-139</td>\n",
       "      <td>-73</td>\n",
       "      <td>-1</td>\n",
       "      <td>283</td>\n",
       "      <td>-264</td>\n",
       "      <td>-400</td>\n",
       "      <td>-330</td>\n",
       "      <td>-168</td>\n",
       "      <td>101</td>\n",
       "      <td>74</td>\n",
       "      <td>...</td>\n",
       "      <td>-36</td>\n",
       "      <td>442</td>\n",
       "      <td>-17</td>\n",
       "      <td>782</td>\n",
       "      <td>295</td>\n",
       "      <td>11</td>\n",
       "      <td>76</td>\n",
       "      <td>-14</td>\n",
       "      <td>2</td>\n",
       "      <td>0</td>\n",
       "    </tr>\n",
       "    <tr>\n",
       "      <th>2</th>\n",
       "      <td>-76</td>\n",
       "      <td>-49</td>\n",
       "      <td>-307</td>\n",
       "      <td>309</td>\n",
       "      <td>-376</td>\n",
       "      <td>-650</td>\n",
       "      <td>33</td>\n",
       "      <td>-367</td>\n",
       "      <td>206</td>\n",
       "      <td>-215</td>\n",
       "      <td>...</td>\n",
       "      <td>33</td>\n",
       "      <td>168</td>\n",
       "      <td>52</td>\n",
       "      <td>1138</td>\n",
       "      <td>777</td>\n",
       "      <td>41</td>\n",
       "      <td>228</td>\n",
       "      <td>-41</td>\n",
       "      <td>3</td>\n",
       "      <td>0</td>\n",
       "    </tr>\n",
       "    <tr>\n",
       "      <th>3</th>\n",
       "      <td>-135</td>\n",
       "      <td>-114</td>\n",
       "      <td>265</td>\n",
       "      <td>12</td>\n",
       "      <td>-419</td>\n",
       "      <td>-585</td>\n",
       "      <td>158</td>\n",
       "      <td>-253</td>\n",
       "      <td>49</td>\n",
       "      <td>31</td>\n",
       "      <td>...</td>\n",
       "      <td>218</td>\n",
       "      <td>174</td>\n",
       "      <td>-110</td>\n",
       "      <td>627</td>\n",
       "      <td>170</td>\n",
       "      <td>-50</td>\n",
       "      <td>126</td>\n",
       "      <td>-91</td>\n",
       "      <td>4</td>\n",
       "      <td>0</td>\n",
       "    </tr>\n",
       "    <tr>\n",
       "      <th>4</th>\n",
       "      <td>-106</td>\n",
       "      <td>-125</td>\n",
       "      <td>-76</td>\n",
       "      <td>168</td>\n",
       "      <td>-230</td>\n",
       "      <td>-284</td>\n",
       "      <td>4</td>\n",
       "      <td>-122</td>\n",
       "      <td>70</td>\n",
       "      <td>252</td>\n",
       "      <td>...</td>\n",
       "      <td>57</td>\n",
       "      <td>504</td>\n",
       "      <td>-26</td>\n",
       "      <td>250</td>\n",
       "      <td>314</td>\n",
       "      <td>14</td>\n",
       "      <td>56</td>\n",
       "      <td>-25</td>\n",
       "      <td>5</td>\n",
       "      <td>0</td>\n",
       "    </tr>\n",
       "  </tbody>\n",
       "</table>\n",
       "<p>5 rows × 7131 columns</p>\n",
       "</div>"
      ]
     },
     "metadata": {},
     "execution_count": 8
    }
   ],
   "metadata": {}
  },
  {
   "cell_type": "code",
   "execution_count": 9,
   "source": [
    "data_all['cancer'].value_counts()"
   ],
   "outputs": [
    {
     "output_type": "execute_result",
     "data": {
      "text/plain": [
       "0    47\n",
       "1    25\n",
       "Name: cancer, dtype: int64"
      ]
     },
     "metadata": {},
     "execution_count": 9
    }
   ],
   "metadata": {}
  },
  {
   "cell_type": "code",
   "execution_count": 10,
   "source": [
    "plt.figure()\n",
    "sns.countplot(x='cancer', data=data_all)\n",
    "plt.title('Class distributions')"
   ],
   "outputs": [
    {
     "output_type": "execute_result",
     "data": {
      "text/plain": [
       "Text(0.5, 1.0, 'Class distributions')"
      ]
     },
     "metadata": {},
     "execution_count": 10
    },
    {
     "output_type": "display_data",
     "data": {
      "text/plain": [
       "<Figure size 432x288 with 1 Axes>"
      ],
      "image/png": "[encoded data removed]"
     },
     "metadata": {
      "needs_background": "light"
     }
    }
   ],
   "metadata": {}
  },
  {
   "cell_type": "code",
   "execution_count": 11,
   "source": [
    "# Need to balance our dataset before we can run some classification algorithms on them\n",
    "# First split into train and test sets\n",
    "\n",
    "X, y = data_all.drop(columns=['cancer']), data_all['cancer']\n",
    "X_train, X_test, y_train, y_test = model_selection.train_test_split(X, y, test_size=0.25, random_state=0)\n"
   ],
   "outputs": [],
   "metadata": {}
  },
  {
   "cell_type": "code",
   "execution_count": 12,
   "source": [
    "# Feature scaling \n",
    "\n",
    "standard_scaler_X = preprocessing.StandardScaler()\n",
    "X_train = standard_scaler_X.fit_transform(X_train)\n",
    "X_test = standard_scaler_X.transform(X_test)"
   ],
   "outputs": [],
   "metadata": {}
  },
  {
   "cell_type": "code",
   "execution_count": 13,
   "source": [
    "df_X_train = pd.DataFrame(X_train)\n",
    "df_X_train.plot(kind='kde', legend=None)"
   ],
   "outputs": [
    {
     "output_type": "execute_result",
     "data": {
      "text/plain": [
       "<AxesSubplot:ylabel='Density'>"
      ]
     },
     "metadata": {},
     "execution_count": 13
    },
    {
     "output_type": "display_data",
     "data": {
      "text/plain": [
       "<Figure size 432x288 with 1 Axes>"
      ],
      "image/png": "[encoded data removed]"
     },
     "metadata": {
      "needs_background": "light"
     }
    }
   ],
   "metadata": {}
  },
  {
   "cell_type": "markdown",
   "source": [
    "### Dimensionality reduction using PCA\n",
    "\n",
    "We have a few thousands of features. Do we really need all of them, or can we get rid of some."
   ],
   "metadata": {}
  },
  {
   "cell_type": "code",
   "execution_count": 14,
   "source": [
    "# check how many features we need to explain 99% of the variance\n",
    "\n",
    "pca = decomposition.PCA()\n",
    "pca.fit_transform(X_train)\n",
    "\n",
    "k, curr_var, total_var = 0, 0, sum(pca.explained_variance_)\n",
    "while curr_var/total_var < 0.99:\n",
    "    curr_var += pca.explained_variance_[k]\n",
    "    k += 1\n",
    "\n",
    "pca = decomposition.PCA(n_components = k)\n",
    "X_train_pca = pca.fit(X_train)\n",
    "X_train_pca = pca.transform(X_train)\n",
    "X_test_pca = pca.transform(X_test)\n",
    "\n",
    "explained_var = pca.explained_variance_ratio_.cumsum() * 100\n",
    "plt.bar(range(k), explained_var)"
   ],
   "outputs": [
    {
     "output_type": "execute_result",
     "data": {
      "text/plain": [
       "<BarContainer object of 52 artists>"
      ]
     },
     "metadata": {},
     "execution_count": 14
    },
    {
     "output_type": "display_data",
     "data": {
      "text/plain": [
       "<Figure size 432x288 with 1 Axes>"
      ],
      "image/png": "[encoded data removed]"
     },
     "metadata": {
      "needs_background": "light"
     }
    }
   ],
   "metadata": {}
  },
  {
   "cell_type": "code",
   "execution_count": 15,
   "source": [
    "# balancing our labels by oversampling with the synthetic oversampling technique\n",
    "\n",
    "from imblearn.over_sampling import SMOTE\n",
    "from sklearn.utils import resample\n",
    "import collections\n",
    "\n",
    "print(\"Before upsampling: \")\n",
    "print(collections.Counter(y_train))\n",
    "\n",
    "oversample = SMOTE()\n",
    "X_train_ov, y_train_ov = oversample.fit_resample(X_train_pca, y_train)\n",
    "\n",
    "print(\"After upsampling: \")\n",
    "print(collections.Counter(y_train_ov))"
   ],
   "outputs": [
    {
     "output_type": "stream",
     "name": "stdout",
     "text": [
      "Before upsampling: \n",
      "Counter({0: 39, 1: 15})\n",
      "After upsampling: \n",
      "Counter({0: 39, 1: 39})\n"
     ]
    }
   ],
   "metadata": {}
  },
  {
   "cell_type": "markdown",
   "source": [
    "## Support Vector Machine\n",
    "\n",
    "Do some quick hyperparameter optimization"
   ],
   "metadata": {}
  },
  {
   "cell_type": "code",
   "execution_count": 16,
   "source": [
    "# optimize by searching through a grid\n",
    "\n",
    "svc_params = [\n",
    "    {'C' : [1, 10, 100, 1000], 'kernel': ['linear']},\n",
    "    {'C' : [1, 10, 100, 1000], 'kernel': ['rbf'], 'gamma': [i/10.0 for i in range(1,10)]},\n",
    "]\n",
    "\n",
    "search = model_selection.GridSearchCV(svm.SVC(), svc_params, n_jobs=-1, verbose=1)\n",
    "search.fit(X_train_ov, y_train_ov)\n",
    "\n",
    "best_accuracy = search.best_score_\n",
    "best_params = search.best_params_\n",
    "best_svc = search.best_estimator_\n",
    "best_svc"
   ],
   "outputs": [
    {
     "output_type": "stream",
     "name": "stdout",
     "text": [
      "Fitting 5 folds for each of 40 candidates, totalling 200 fits\n"
     ]
    },
    {
     "output_type": "execute_result",
     "data": {
      "text/plain": [
       "SVC(C=1, kernel='linear')"
      ]
     },
     "metadata": {},
     "execution_count": 16
    }
   ],
   "metadata": {}
  },
  {
   "cell_type": "code",
   "execution_count": 17,
   "source": [
    "# build the actual SVM\n",
    " \n",
    "svc_model= svm.SVC(C=1, kernel='linear', probability=True)\n",
    "\n",
    "svc_model.fit(X_train_ov, y_train_ov)"
   ],
   "outputs": [
    {
     "output_type": "execute_result",
     "data": {
      "text/plain": [
       "SVC(C=1, kernel='linear', probability=True)"
      ]
     },
     "metadata": {},
     "execution_count": 17
    }
   ],
   "metadata": {}
  },
  {
   "cell_type": "code",
   "execution_count": 61,
   "source": [
    "\n",
    "prediction = svc_model.predict(X_test_pca)\n",
    "acc_svc = metrics.accuracy_score(prediction,y_test)\n",
    "print('The accruacy of the SVM is: ', acc_svc)\n",
    "print('Classification report:\\n', metrics.classification_report(y_test,prediction))"
   ],
   "outputs": [
    {
     "output_type": "stream",
     "name": "stdout",
     "text": [
      "The accruacy of the SVM is:  0.8888888888888888\n",
      "Classification report:\n",
      "               precision    recall  f1-score   support\n",
      "\n",
      "           0       0.80      1.00      0.89         8\n",
      "           1       1.00      0.80      0.89        10\n",
      "\n",
      "    accuracy                           0.89        18\n",
      "   macro avg       0.90      0.90      0.89        18\n",
      "weighted avg       0.91      0.89      0.89        18\n",
      "\n"
     ]
    }
   ],
   "metadata": {}
  },
  {
   "cell_type": "code",
   "execution_count": 64,
   "source": [
    "# plot the confusion matrix\n",
    "\n",
    "def plot_confusion_matrix(prediction):\n",
    "    plt.figure(figsize=(13,10))\n",
    "    plt.subplot(221)\n",
    "    sns.heatmap(metrics.confusion_matrix(y_test, prediction), annot=True, cmap='Blues', fmt='d')\n",
    "    plt.title('Confusion Matrix', fontsize=20)\n",
    "    plt.xlabel('Predicted', fontsize=15)\n",
    "    plt.ylabel('True', fontsize=15)\n",
    "\n",
    "\n",
    "def plot_roc_curve(model):\n",
    "    predicting_probabilities = model.predict_proba(X_test_pca)[:,1]\n",
    "    fpr, tpr, thresholds = metrics.roc_curve(y_test,predicting_probabilities)\n",
    "    plt.subplot(222)\n",
    "    plt.plot(fpr,tpr, label=('AUC: ',metrics.auc(fpr,tpr)), color='b')\n",
    "    plt.plot([1,0],[1,0], linestyle='dashed', color='r')\n",
    "    plt.legend(loc='best')\n",
    "    plt.title('ROC', fontsize=20)\n",
    "    plt.xlabel('FPR', fontsize=15)\n",
    "    plt.ylabel('TPR', fontsize=15)\n",
    "\n",
    "plot_confusion_matrix(prediction)\n",
    "plot_roc_curve(svc_model)\n"
   ],
   "outputs": [
    {
     "output_type": "display_data",
     "data": {
      "text/plain": [
       "<Figure size 936x720 with 3 Axes>"
      ],
      "image/png": "[encoded data removed]"
     },
     "metadata": {
      "needs_background": "light"
     }
    }
   ],
   "metadata": {}
  },
  {
   "cell_type": "markdown",
   "source": [
    "## KNN\n",
    "\n",
    "Spin up quick KNN algorithm to have a go at this"
   ],
   "metadata": {}
  },
  {
   "cell_type": "code",
   "execution_count": 34,
   "source": [
    "# Hyperparameter optimisation\n",
    "\n",
    "knn_param = {\n",
    "    'n_neighbors' : [i for i in range(1,50,5)],\n",
    "    'weights': ['uniform', 'distance'],\n",
    "    'algorithm': ['ball_tree', 'kd_tree', 'brute'],\n",
    "    'leaf_size': [1, 10, 30, 50],\n",
    "    'p': [1, 2],\n",
    "}\n",
    "search = model_selection.GridSearchCV(neighbors.KNeighborsClassifier(), knn_param, n_jobs=-1, verbose=1)\n",
    "search.fit(X_train_ov, y_train_ov)\n",
    "\n",
    "best_accuracy = search.best_score_\n",
    "best_params = search.best_params_\n",
    "best_knn = search.best_estimator_\n",
    "best_knn\n"
   ],
   "outputs": [
    {
     "output_type": "stream",
     "name": "stdout",
     "text": [
      "Fitting 5 folds for each of 480 candidates, totalling 2400 fits\n"
     ]
    },
    {
     "output_type": "execute_result",
     "data": {
      "text/plain": [
       "KNeighborsClassifier(algorithm='ball_tree', leaf_size=1, n_neighbors=1)"
      ]
     },
     "metadata": {},
     "execution_count": 34
    }
   ],
   "metadata": {}
  },
  {
   "cell_type": "code",
   "execution_count": 35,
   "source": [
    "# Create and fit the model\n",
    "\n",
    "knn_model = neighbors.KNeighborsClassifier(algorithm='ball_tree', leaf_size=1, n_neighbors=1, weights='distance')\n",
    "knn_model.fit(X_train_ov,y_train_ov)"
   ],
   "outputs": [
    {
     "output_type": "execute_result",
     "data": {
      "text/plain": [
       "KNeighborsClassifier(algorithm='ball_tree', leaf_size=1, n_neighbors=1,\n",
       "                     weights='distance')"
      ]
     },
     "metadata": {},
     "execution_count": 35
    }
   ],
   "metadata": {}
  },
  {
   "cell_type": "code",
   "execution_count": 36,
   "source": [
    "\n",
    "prediction = knn_model.predict(X_test_pca)\n",
    "acc_knn = metrics.accuracy_score(prediction, y_test)\n",
    "\n",
    "print('The accruacy of KNN is: ', acc_knn)\n",
    "print('Classification report:\\n', metrics.classification_report(y_test,prediction))"
   ],
   "outputs": [
    {
     "output_type": "stream",
     "name": "stdout",
     "text": [
      "The accruacy of the SVM is:  0.6666666666666666\n",
      "Classification report:\n",
      "               precision    recall  f1-score   support\n",
      "\n",
      "           0       0.62      0.62      0.62         8\n",
      "           1       0.70      0.70      0.70        10\n",
      "\n",
      "    accuracy                           0.67        18\n",
      "   macro avg       0.66      0.66      0.66        18\n",
      "weighted avg       0.67      0.67      0.67        18\n",
      "\n"
     ]
    }
   ],
   "metadata": {}
  },
  {
   "cell_type": "code",
   "execution_count": 65,
   "source": [
    "# Confusion matrix\n",
    "\n",
    "plot_confusion_matrix(prediction)\n",
    "plot_roc_curve(knn_model)\n"
   ],
   "outputs": [
    {
     "output_type": "display_data",
     "data": {
      "text/plain": [
       "<Figure size 936x720 with 3 Axes>"
      ],
      "image/png": "[encoded data removed]"
     },
     "metadata": {
      "needs_background": "light"
     }
    }
   ],
   "metadata": {}
  },
  {
   "cell_type": "markdown",
   "source": [
    "## Logistic regression"
   ],
   "metadata": {}
  },
  {
   "cell_type": "code",
   "execution_count": 53,
   "source": [
    "# Hyperparameter optimisation\n",
    "import warnings; warnings.simplefilter('ignore') # l1_ratio only really makes sense for elasticnet\n",
    "\n",
    "log_params = {\n",
    "    \"C\": [1e-04, 1e-03, 1e-02, 1e-01, 1, 10, 100],\n",
    "    \"penalty\": [\"l1\", \"l2\", \"elasticnet\"],\n",
    "    \"l1_ratio\": [0.2,0.4,0.5,0.6,0.8]\n",
    "}\n",
    "\n",
    "log_model = model_selection.GridSearchCV(\n",
    "    linear_model.LogisticRegression(solver=\"saga\"),\n",
    "    param_grid=log_params,\n",
    "    cv=3,\n",
    "    scoring=\"accuracy\",\n",
    ")\n",
    "\n",
    "log_model.fit(X_train_ov,y_train_ov)\n",
    "\n",
    "best_acc = log_model.best_score_\n",
    "best_params = log_model.best_params_\n",
    "best_log = log_model.best_estimator_\n",
    "best_log"
   ],
   "outputs": [
    {
     "output_type": "execute_result",
     "data": {
      "text/plain": [
       "LogisticRegression(C=0.01, l1_ratio=0.4, penalty='elasticnet', solver='saga')"
      ]
     },
     "metadata": {},
     "execution_count": 53
    }
   ],
   "metadata": {}
  },
  {
   "cell_type": "code",
   "execution_count": 54,
   "source": [
    "log_model = linear_model.LogisticRegression(C=0.01, l1_ratio=0.4, penalty='elasticnet', solver='saga')\n",
    "log_model.fit(X_train_ov,y_train_ov)"
   ],
   "outputs": [
    {
     "output_type": "execute_result",
     "data": {
      "text/plain": [
       "LogisticRegression(C=0.01, l1_ratio=0.4, penalty='elasticnet', solver='saga')"
      ]
     },
     "metadata": {},
     "execution_count": 54
    }
   ],
   "metadata": {}
  },
  {
   "cell_type": "code",
   "execution_count": 55,
   "source": [
    "prediction = log_model.predict(X_test_pca)\n",
    "acc_log = metrics.accuracy_score(prediction, y_test)\n",
    "\n",
    "print('The accuracy of the logistic regression is: ', acc_log)\n",
    "print('Classification report:\\n', metrics.classification_report(y_test,prediction))"
   ],
   "outputs": [
    {
     "output_type": "stream",
     "name": "stdout",
     "text": [
      "The accruacy of the logistic regression is:  0.7777777777777778\n",
      "Classification report:\n",
      "               precision    recall  f1-score   support\n",
      "\n",
      "           0       1.00      0.50      0.67         8\n",
      "           1       0.71      1.00      0.83        10\n",
      "\n",
      "    accuracy                           0.78        18\n",
      "   macro avg       0.86      0.75      0.75        18\n",
      "weighted avg       0.84      0.78      0.76        18\n",
      "\n"
     ]
    }
   ],
   "metadata": {}
  },
  {
   "cell_type": "code",
   "execution_count": 66,
   "source": [
    "plot_confusion_matrix(prediction)\n",
    "plot_roc_curve(log_model)"
   ],
   "outputs": [
    {
     "output_type": "display_data",
     "data": {
      "text/plain": [
       "<Figure size 936x720 with 3 Axes>"
      ],
      "image/png": "[encoded data removed]"
     },
     "metadata": {
      "needs_background": "light"
     }
    }
   ],
   "metadata": {}
  },
  {
   "cell_type": "markdown",
   "source": [
    "## Decision trees"
   ],
   "metadata": {}
  },
  {
   "cell_type": "code",
   "execution_count": 57,
   "source": [
    "tree_params = {\n",
    "    'max_leaf_nodes': list(range(2, 100)),\n",
    "    'min_samples_split': [2, 3, 4, 5, 6, 7, 8, 9], \n",
    "    'max_depth':[2, 3, 4, 5, 6, 7, 8, 9]\n",
    "}\n",
    "\n",
    "tree_model = model_selection.GridSearchCV(\n",
    "    tree.DecisionTreeClassifier(random_state=42),\n",
    "    param_grid=tree_params,\n",
    "    cv=3,\n",
    "    verbose=1,\n",
    ")\n",
    "\n",
    "tree_model.fit(X_train_ov,y_train_ov)\n",
    "\n",
    "best_acc = tree_model.best_score_\n",
    "best_params = tree_model.best_params_\n",
    "best_tree = tree_model.best_estimator_\n",
    "best_tree"
   ],
   "outputs": [
    {
     "output_type": "stream",
     "name": "stdout",
     "text": [
      "Fitting 3 folds for each of 6272 candidates, totalling 18816 fits\n"
     ]
    },
    {
     "output_type": "execute_result",
     "data": {
      "text/plain": [
       "DecisionTreeClassifier(max_depth=2, max_leaf_nodes=4, random_state=42)"
      ]
     },
     "metadata": {},
     "execution_count": 57
    }
   ],
   "metadata": {}
  },
  {
   "cell_type": "code",
   "execution_count": 58,
   "source": [
    "tree_model = tree.DecisionTreeClassifier(max_depth=2, max_leaf_nodes=4, random_state=42)\n",
    "tree_model.fit(X_train_ov, y_train_ov)"
   ],
   "outputs": [
    {
     "output_type": "execute_result",
     "data": {
      "text/plain": [
       "DecisionTreeClassifier(max_depth=2, max_leaf_nodes=4, random_state=42)"
      ]
     },
     "metadata": {},
     "execution_count": 58
    }
   ],
   "metadata": {}
  },
  {
   "cell_type": "code",
   "execution_count": 68,
   "source": [
    "prediction = tree_model.predict(X_test_pca)\n",
    "acc_tree = metrics.accuracy_score(prediction, y_test)\n",
    "\n",
    "print('The validation accuracy of the decision tree is: ', acc_tree)\n",
    "print('Classification report:\\n', metrics.classification_report(y_test,prediction))"
   ],
   "outputs": [
    {
     "output_type": "stream",
     "name": "stdout",
     "text": [
      "The validation accuracy of the decision tree is:  0.7222222222222222\n",
      "Classification report:\n",
      "               precision    recall  f1-score   support\n",
      "\n",
      "           0       0.62      1.00      0.76         8\n",
      "           1       1.00      0.50      0.67        10\n",
      "\n",
      "    accuracy                           0.72        18\n",
      "   macro avg       0.81      0.75      0.71        18\n",
      "weighted avg       0.83      0.72      0.71        18\n",
      "\n"
     ]
    }
   ],
   "metadata": {}
  },
  {
   "cell_type": "code",
   "execution_count": 69,
   "source": [
    "plot_confusion_matrix(prediction)\n",
    "plot_roc_curve(tree_model)"
   ],
   "outputs": [
    {
     "output_type": "display_data",
     "data": {
      "text/plain": [
       "<Figure size 936x720 with 3 Axes>"
      ],
      "image/png": "[encoded data removed]"
     },
     "metadata": {
      "needs_background": "light"
     }
    }
   ],
   "metadata": {}
  },
  {
   "cell_type": "markdown",
   "source": [
    "## Random forest\n",
    "\n",
    "The next logical step after the decision tree ..."
   ],
   "metadata": {}
  },
  {
   "cell_type": "code",
   "execution_count": 72,
   "source": [
    "# Hyperparameter optimisation\n",
    "\n",
    "forest_params = {\n",
    "    'bootstrap': [False, True],\n",
    "    'n_estimators': [60, 80, 100, 120, 150],\n",
    "    'max_features': [0.5, 0.6, 0.65, 0.7, 0.75, 0.8],\n",
    "    'min_samples_leaf': [6, 8, 10, 12, 14],\n",
    "    'min_samples_split': [2, 3, 5, 7]\n",
    "}\n",
    "\n",
    "forest_model = model_selection.GridSearchCV(estimator=ensemble.RandomForestClassifier(), param_grid=forest_params, cv=3, scoring='accuracy')\n",
    "forest_model.fit(X_train_ov, y_train_ov)\n",
    "\n",
    "best_acc = forest_model.best_score_\n",
    "best_params = forest_model.best_params_\n",
    "best_forest = forest_model.best_estimator_\n",
    "best_forest"
   ],
   "outputs": [
    {
     "output_type": "execute_result",
     "data": {
      "text/plain": [
       "RandomForestClassifier(max_features=0.5, min_samples_leaf=6,\n",
       "                       min_samples_split=7, n_estimators=60)"
      ]
     },
     "metadata": {},
     "execution_count": 72
    }
   ],
   "metadata": {}
  },
  {
   "cell_type": "code",
   "execution_count": 73,
   "source": [
    "forest_model = ensemble.RandomForestClassifier(\n",
    "    max_features=0.5, min_samples_leaf=6, min_samples_split=7, n_estimators=60\n",
    ")\n",
    "forest_model.fit(X_train_ov, y_train_ov)"
   ],
   "outputs": [
    {
     "output_type": "execute_result",
     "data": {
      "text/plain": [
       "RandomForestClassifier(max_features=0.5, min_samples_leaf=6,\n",
       "                       min_samples_split=7, n_estimators=60)"
      ]
     },
     "metadata": {},
     "execution_count": 73
    }
   ],
   "metadata": {}
  },
  {
   "cell_type": "code",
   "execution_count": 74,
   "source": [
    "prediction = forest_model.predict(X_test_pca)\n",
    "acc_forest = metrics.accuracy_score(prediction, y_test)\n",
    "\n",
    "print('The validation accuracy of the random forest is: ', acc_forest)\n",
    "print('Classification report:\\n', metrics.classification_report(y_test,prediction))"
   ],
   "outputs": [
    {
     "output_type": "stream",
     "name": "stdout",
     "text": [
      "The validation accuracy of the random forest is:  0.7777777777777778\n",
      "Classification report:\n",
      "               precision    recall  f1-score   support\n",
      "\n",
      "           0       0.67      1.00      0.80         8\n",
      "           1       1.00      0.60      0.75        10\n",
      "\n",
      "    accuracy                           0.78        18\n",
      "   macro avg       0.83      0.80      0.77        18\n",
      "weighted avg       0.85      0.78      0.77        18\n",
      "\n"
     ]
    }
   ],
   "metadata": {}
  },
  {
   "cell_type": "code",
   "execution_count": 75,
   "source": [
    "plot_confusion_matrix(prediction)\n",
    "plot_roc_curve(forest_model)"
   ],
   "outputs": [
    {
     "output_type": "display_data",
     "data": {
      "text/plain": [
       "<Figure size 936x720 with 3 Axes>"
      ],
      "image/png": "[encoded data removed]"
     },
     "metadata": {
      "needs_background": "light"
     }
    }
   ],
   "metadata": {}
  },
  {
   "cell_type": "markdown",
   "source": [
    "## XGBoost"
   ],
   "metadata": {}
  },
  {
   "cell_type": "code",
   "execution_count": 81,
   "source": [
    "# Hyperparameter optimisation\n",
    "\n",
    "xgb_grid_params = {\n",
    "    'max_depth': [3, 4, 5, 6, 7, 8, 10, 12],\n",
    "    'min_child_weight': [1, 2, 4, 6, 8, 10, 12, 15],\n",
    "    'n_estimators': [40, 50, 60, 70, 80, 90, 100, 110, 120, 130],\n",
    "    'learning_rate': [0.001, 0.01, 0.05, 0.1, 0.2, 0.3]\n",
    "}\n",
    "\n",
    "xgb_model = model_selection.GridSearchCV(estimator=xgb.XGBClassifier(eval_metric='logloss'), param_grid=xgb_grid_params, cv=3, scoring='accuracy')\n",
    "xgb_model.fit(X_train_ov, y_train_ov)\n",
    "\n",
    "best_acc = xgb_model.best_score_\n",
    "best_params = xgb_model.best_params_\n",
    "best_xgb = xgb_model.best_estimator_\n",
    "best_xgb"
   ],
   "outputs": [
    {
     "output_type": "execute_result",
     "data": {
      "text/plain": [
       "XGBClassifier(base_score=0.5, booster='gbtree', colsample_bylevel=1,\n",
       "              colsample_bynode=1, colsample_bytree=1, eval_metric='logloss',\n",
       "              gamma=0, gpu_id=-1, importance_type='gain',\n",
       "              interaction_constraints='', learning_rate=0.2, max_delta_step=0,\n",
       "              max_depth=3, min_child_weight=1, missing=nan,\n",
       "              monotone_constraints='()', n_estimators=40, n_jobs=4,\n",
       "              num_parallel_tree=1, random_state=0, reg_alpha=0, reg_lambda=1,\n",
       "              scale_pos_weight=1, subsample=1, tree_method='exact',\n",
       "              validate_parameters=1, verbosity=None)"
      ]
     },
     "metadata": {},
     "execution_count": 81
    }
   ],
   "metadata": {}
  },
  {
   "cell_type": "code",
   "execution_count": 84,
   "source": [
    "xgb_model = xgb.XGBClassifier(\n",
    "    base_score=0.5, booster='gbtree', colsample_bylevel=1,\n",
    "    colsample_bynode=1, colsample_bytree=1, eval_metric='logloss',\n",
    "    gamma=0, gpu_id=-1, importance_type='gain',\n",
    "    interaction_constraints='', learning_rate=0.2, max_delta_step=0,\n",
    "    max_depth=3, min_child_weight=1, missing=None,\n",
    "    monotone_constraints='()', n_estimators=40, n_jobs=4,\n",
    "    num_parallel_tree=1, random_state=0, reg_alpha=0, reg_lambda=1,\n",
    "    scale_pos_weight=1, subsample=1, tree_method='exact',\n",
    "    validate_parameters=1, verbosity=None\n",
    ")\n",
    "xgb_model.fit(X_train_ov, y_train_ov)"
   ],
   "outputs": [
    {
     "output_type": "execute_result",
     "data": {
      "text/plain": [
       "XGBClassifier(base_score=0.5, booster='gbtree', colsample_bylevel=1,\n",
       "              colsample_bynode=1, colsample_bytree=1, eval_metric='logloss',\n",
       "              gamma=0, gpu_id=-1, importance_type='gain',\n",
       "              interaction_constraints='', learning_rate=0.2, max_delta_step=0,\n",
       "              max_depth=3, min_child_weight=1, missing=None,\n",
       "              monotone_constraints='()', n_estimators=40, n_jobs=4,\n",
       "              num_parallel_tree=1, random_state=0, reg_alpha=0, reg_lambda=1,\n",
       "              scale_pos_weight=1, subsample=1, tree_method='exact',\n",
       "              validate_parameters=1, verbosity=None)"
      ]
     },
     "metadata": {},
     "execution_count": 84
    }
   ],
   "metadata": {}
  },
  {
   "cell_type": "code",
   "execution_count": 85,
   "source": [
    "prediction = xgb_model.predict(X_test_pca)\n",
    "acc_xgb = metrics.accuracy_score(prediction, y_test)\n",
    "\n",
    "print('The validation accuracy of XGBoost: ', acc_xgb)\n",
    "print('Classification report:\\n', metrics.classification_report(y_test,prediction))"
   ],
   "outputs": [
    {
     "output_type": "stream",
     "name": "stdout",
     "text": [
      "The validation accuracy of XGBoost:  0.7222222222222222\n",
      "Classification report:\n",
      "               precision    recall  f1-score   support\n",
      "\n",
      "           0       0.62      1.00      0.76         8\n",
      "           1       1.00      0.50      0.67        10\n",
      "\n",
      "    accuracy                           0.72        18\n",
      "   macro avg       0.81      0.75      0.71        18\n",
      "weighted avg       0.83      0.72      0.71        18\n",
      "\n"
     ]
    }
   ],
   "metadata": {}
  },
  {
   "cell_type": "code",
   "execution_count": 86,
   "source": [
    "plot_confusion_matrix(prediction)\n",
    "plot_roc_curve(xgb_model)"
   ],
   "outputs": [
    {
     "output_type": "display_data",
     "data": {
      "text/plain": [
       "<Figure size 936x720 with 3 Axes>"
      ],
      "image/png": "[encoded data removed]"
     },
     "metadata": {
      "needs_background": "light"
     }
    }
   ],
   "metadata": {}
  },
  {
   "cell_type": "markdown",
   "source": [
    "## Naive Bayes\n",
    "\n",
    "Finally, naive bayes, the last I'll try (and probably one of the best for this problem)"
   ],
   "metadata": {}
  },
  {
   "cell_type": "code",
   "execution_count": 91,
   "source": [
    "nb_model = naive_bayes.GaussianNB()\n",
    "nb_model.fit(X_train_ov, y_train_ov)"
   ],
   "outputs": [
    {
     "output_type": "execute_result",
     "data": {
      "text/plain": [
       "GaussianNB()"
      ]
     },
     "metadata": {},
     "execution_count": 91
    }
   ],
   "metadata": {}
  },
  {
   "cell_type": "code",
   "execution_count": 92,
   "source": [
    "prediction = nb_model.predict(X_test_pca)\n",
    "acc_nb = metrics.accuracy_score(prediction, y_test)\n",
    "\n",
    "print('The validation accuracy of Gaussian Naive Bayes: ', acc_nb)\n",
    "print('Classification report:\\n', metrics.classification_report(y_test,prediction))"
   ],
   "outputs": [
    {
     "output_type": "stream",
     "name": "stdout",
     "text": [
      "The validation accuracy of Gaussian Naive Bayes:  0.7777777777777778\n",
      "Classification report:\n",
      "               precision    recall  f1-score   support\n",
      "\n",
      "           0       1.00      0.50      0.67         8\n",
      "           1       0.71      1.00      0.83        10\n",
      "\n",
      "    accuracy                           0.78        18\n",
      "   macro avg       0.86      0.75      0.75        18\n",
      "weighted avg       0.84      0.78      0.76        18\n",
      "\n"
     ]
    }
   ],
   "metadata": {}
  },
  {
   "cell_type": "code",
   "execution_count": 93,
   "source": [
    "plot_confusion_matrix(prediction)\n",
    "plot_roc_curve(nb_model)"
   ],
   "outputs": [
    {
     "output_type": "display_data",
     "data": {
      "text/plain": [
       "<Figure size 936x720 with 3 Axes>"
      ],
      "image/png": "[encoded data removed]"
     },
     "metadata": {
      "needs_background": "light"
     }
    }
   ],
   "metadata": {}
  },
  {
   "cell_type": "markdown",
   "source": [
    "## Model Evaluation\n",
    "\n",
    "We'll compare the performance of each model here."
   ],
   "metadata": {}
  },
  {
   "cell_type": "code",
   "execution_count": 94,
   "source": [
    "models = pd.DataFrame({\n",
    "    'Model': ['SVM', 'KNN', 'Logistic Regression', 'Decision Tree', 'Random Forest', 'XGBoost', 'Naive Bayes'],\n",
    "    'Score': [acc_svc, acc_knn, acc_log, acc_tree, acc_forest, acc_xgb, acc_nb]\n",
    "})\n",
    "models.sort_values(by='Score', ascending=False)"
   ],
   "outputs": [
    {
     "output_type": "execute_result",
     "data": {
      "text/plain": [
       "                 Model     Score\n",
       "0                  SVM  0.888889\n",
       "2  Logistic Regression  0.777778\n",
       "4        Random Forest  0.777778\n",
       "6          Naive Bayes  0.777778\n",
       "3        Decision Tree  0.722222\n",
       "5              XGBoost  0.722222\n",
       "1                  KNN  0.666667"
      ],
      "text/html": [
       "<div>\n",
       "<style scoped>\n",
       "    .dataframe tbody tr th:only-of-type {\n",
       "        vertical-align: middle;\n",
       "    }\n",
       "\n",
       "    .dataframe tbody tr th {\n",
       "        vertical-align: top;\n",
       "    }\n",
       "\n",
       "    .dataframe thead th {\n",
       "        text-align: right;\n",
       "    }\n",
       "</style>\n",
       "<table border=\"1\" class=\"dataframe\">\n",
       "  <thead>\n",
       "    <tr style=\"text-align: right;\">\n",
       "      <th></th>\n",
       "      <th>Model</th>\n",
       "      <th>Score</th>\n",
       "    </tr>\n",
       "  </thead>\n",
       "  <tbody>\n",
       "    <tr>\n",
       "      <th>0</th>\n",
       "      <td>SVM</td>\n",
       "      <td>0.888889</td>\n",
       "    </tr>\n",
       "    <tr>\n",
       "      <th>2</th>\n",
       "      <td>Logistic Regression</td>\n",
       "      <td>0.777778</td>\n",
       "    </tr>\n",
       "    <tr>\n",
       "      <th>4</th>\n",
       "      <td>Random Forest</td>\n",
       "      <td>0.777778</td>\n",
       "    </tr>\n",
       "    <tr>\n",
       "      <th>6</th>\n",
       "      <td>Naive Bayes</td>\n",
       "      <td>0.777778</td>\n",
       "    </tr>\n",
       "    <tr>\n",
       "      <th>3</th>\n",
       "      <td>Decision Tree</td>\n",
       "      <td>0.722222</td>\n",
       "    </tr>\n",
       "    <tr>\n",
       "      <th>5</th>\n",
       "      <td>XGBoost</td>\n",
       "      <td>0.722222</td>\n",
       "    </tr>\n",
       "    <tr>\n",
       "      <th>1</th>\n",
       "      <td>KNN</td>\n",
       "      <td>0.666667</td>\n",
       "    </tr>\n",
       "  </tbody>\n",
       "</table>\n",
       "</div>"
      ]
     },
     "metadata": {},
     "execution_count": 94
    }
   ],
   "metadata": {}
  }
 ],
 "metadata": {
  "orig_nbformat": 4,
  "language_info": {
   "name": "python",
   "version": "3.9.5",
   "mimetype": "text/x-python",
   "codemirror_mode": {
    "name": "ipython",
    "version": 3
   },
   "pygments_lexer": "ipython3",
   "nbconvert_exporter": "python",
   "file_extension": ".py"
  },
  "kernelspec": {
   "name": "python3",
   "display_name": "Python 3.9.5 64-bit ('py3.9': conda)"
  },
  "interpreter": {
   "hash": "7fc61880392a4ce23199dcba01d1680783100219e12ec03f38b37e3bcb0616d0"
  }
 },
 "nbformat": 4,
 "nbformat_minor": 2
}